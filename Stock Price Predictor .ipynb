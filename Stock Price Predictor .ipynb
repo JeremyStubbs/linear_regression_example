{
 "cells": [
  {
   "cell_type": "markdown",
   "metadata": {},
   "source": [
    "### Stock Price Predictor \n",
    "\n",
    "In this project, we will work on a time series problem or I can say regression problem which is a Stock Price Prediction, We will Predict the stock prices of Gold.  \n",
    "You can work on any.  \n",
    "\n",
    "Requirements:- \n",
    "\n",
    "- You should have completed Linear Regression Section \n",
    "- You should hvae completed the Support Vector Machine Section  \n",
    "\n",
    "In this project, we will develop our stock price predictor using only these two predictors. In research papers, SVM, Regression algorithms  works best as compared to any other machine learning algorithms, ofc ensembling learning, stacking will work which we will study in details in further sections.  \n",
    "So, let's get started with this project. \n",
    "\n",
    "Before you get started, be sure you have downloaded the following package:- \n",
    "```Python \n",
    "pip install yfinance \n",
    "``` \n",
    "\n",
    "ONLY for Educational"
   ]
  },
  {
   "cell_type": "code",
   "execution_count": 2,
   "metadata": {},
   "outputs": [],
   "source": [
    "import numpy as np \n",
    "import pandas as pd   \n",
    "\n",
    "import yfinance as yf \n",
    "\n",
    "import seaborn as sns \n",
    "import matplotlib.pyplot as plt   \n",
    "%matplotlib inline "
   ]
  },
  {
   "cell_type": "code",
   "execution_count": 3,
   "metadata": {},
   "outputs": [
    {
     "name": "stdout",
     "output_type": "stream",
     "text": [
      "[*********************100%***********************]  1 of 1 completed\n"
     ]
    },
    {
     "data": {
      "text/html": [
       "<div>\n",
       "<style scoped>\n",
       "    .dataframe tbody tr th:only-of-type {\n",
       "        vertical-align: middle;\n",
       "    }\n",
       "\n",
       "    .dataframe tbody tr th {\n",
       "        vertical-align: top;\n",
       "    }\n",
       "\n",
       "    .dataframe thead th {\n",
       "        text-align: right;\n",
       "    }\n",
       "</style>\n",
       "<table border=\"1\" class=\"dataframe\">\n",
       "  <thead>\n",
       "    <tr style=\"text-align: right;\">\n",
       "      <th></th>\n",
       "      <th>Open</th>\n",
       "      <th>High</th>\n",
       "      <th>Low</th>\n",
       "      <th>Close</th>\n",
       "      <th>Volume</th>\n",
       "    </tr>\n",
       "    <tr>\n",
       "      <th>Date</th>\n",
       "      <th></th>\n",
       "      <th></th>\n",
       "      <th></th>\n",
       "      <th></th>\n",
       "      <th></th>\n",
       "    </tr>\n",
       "  </thead>\n",
       "  <tbody>\n",
       "    <tr>\n",
       "      <th>2021-01-04</th>\n",
       "      <td>132.533066</td>\n",
       "      <td>132.622397</td>\n",
       "      <td>125.823032</td>\n",
       "      <td>128.453445</td>\n",
       "      <td>143301900</td>\n",
       "    </tr>\n",
       "    <tr>\n",
       "      <th>2021-01-05</th>\n",
       "      <td>127.937301</td>\n",
       "      <td>130.766241</td>\n",
       "      <td>127.480694</td>\n",
       "      <td>130.041626</td>\n",
       "      <td>97664900</td>\n",
       "    </tr>\n",
       "    <tr>\n",
       "      <th>2021-01-06</th>\n",
       "      <td>126.775939</td>\n",
       "      <td>130.081327</td>\n",
       "      <td>125.445840</td>\n",
       "      <td>125.664215</td>\n",
       "      <td>155088000</td>\n",
       "    </tr>\n",
       "    <tr>\n",
       "      <th>2021-01-07</th>\n",
       "      <td>127.411196</td>\n",
       "      <td>130.657029</td>\n",
       "      <td>126.914892</td>\n",
       "      <td>129.952271</td>\n",
       "      <td>109578200</td>\n",
       "    </tr>\n",
       "    <tr>\n",
       "      <th>2021-01-08</th>\n",
       "      <td>131.451110</td>\n",
       "      <td>131.649643</td>\n",
       "      <td>129.267374</td>\n",
       "      <td>131.073929</td>\n",
       "      <td>105158200</td>\n",
       "    </tr>\n",
       "  </tbody>\n",
       "</table>\n",
       "</div>"
      ],
      "text/plain": [
       "                  Open        High         Low       Close     Volume\n",
       "Date                                                                 \n",
       "2021-01-04  132.533066  132.622397  125.823032  128.453445  143301900\n",
       "2021-01-05  127.937301  130.766241  127.480694  130.041626   97664900\n",
       "2021-01-06  126.775939  130.081327  125.445840  125.664215  155088000\n",
       "2021-01-07  127.411196  130.657029  126.914892  129.952271  109578200\n",
       "2021-01-08  131.451110  131.649643  129.267374  131.073929  105158200"
      ]
     },
     "execution_count": 3,
     "metadata": {},
     "output_type": "execute_result"
    }
   ],
   "source": [
    "stocks = input(\"Enter the code of the stock:- \") \n",
    "data = yf.download(stocks, \"2021-01-01\", \"2022-01-01\", auto_adjust=True) \n",
    "data.head()"
   ]
  },
  {
   "cell_type": "code",
   "execution_count": 4,
   "metadata": {},
   "outputs": [
    {
     "data": {
      "text/plain": [
       "(252, 5)"
      ]
     },
     "execution_count": 4,
     "metadata": {},
     "output_type": "execute_result"
    }
   ],
   "source": [
    "data.shape "
   ]
  },
  {
   "cell_type": "code",
   "execution_count": 5,
   "metadata": {},
   "outputs": [
    {
     "name": "stdout",
     "output_type": "stream",
     "text": [
      "<class 'pandas.core.frame.DataFrame'>\n",
      "DatetimeIndex: 252 entries, 2021-01-04 to 2021-12-31\n",
      "Data columns (total 5 columns):\n",
      " #   Column  Non-Null Count  Dtype  \n",
      "---  ------  --------------  -----  \n",
      " 0   Open    252 non-null    float64\n",
      " 1   High    252 non-null    float64\n",
      " 2   Low     252 non-null    float64\n",
      " 3   Close   252 non-null    float64\n",
      " 4   Volume  252 non-null    int64  \n",
      "dtypes: float64(4), int64(1)\n",
      "memory usage: 11.8 KB\n"
     ]
    }
   ],
   "source": [
    "data.info()"
   ]
  },
  {
   "cell_type": "code",
   "execution_count": 6,
   "metadata": {},
   "outputs": [
    {
     "data": {
      "text/html": [
       "<div>\n",
       "<style scoped>\n",
       "    .dataframe tbody tr th:only-of-type {\n",
       "        vertical-align: middle;\n",
       "    }\n",
       "\n",
       "    .dataframe tbody tr th {\n",
       "        vertical-align: top;\n",
       "    }\n",
       "\n",
       "    .dataframe thead th {\n",
       "        text-align: right;\n",
       "    }\n",
       "</style>\n",
       "<table border=\"1\" class=\"dataframe\">\n",
       "  <thead>\n",
       "    <tr style=\"text-align: right;\">\n",
       "      <th></th>\n",
       "      <th>Open</th>\n",
       "      <th>High</th>\n",
       "      <th>Low</th>\n",
       "      <th>Close</th>\n",
       "      <th>Volume</th>\n",
       "    </tr>\n",
       "  </thead>\n",
       "  <tbody>\n",
       "    <tr>\n",
       "      <th>count</th>\n",
       "      <td>252.000000</td>\n",
       "      <td>252.000000</td>\n",
       "      <td>252.000000</td>\n",
       "      <td>252.000000</td>\n",
       "      <td>2.520000e+02</td>\n",
       "    </tr>\n",
       "    <tr>\n",
       "      <th>mean</th>\n",
       "      <td>140.305948</td>\n",
       "      <td>141.786111</td>\n",
       "      <td>138.924140</td>\n",
       "      <td>140.433300</td>\n",
       "      <td>9.051701e+07</td>\n",
       "    </tr>\n",
       "    <tr>\n",
       "      <th>std</th>\n",
       "      <td>14.655287</td>\n",
       "      <td>14.918699</td>\n",
       "      <td>14.608984</td>\n",
       "      <td>14.822319</td>\n",
       "      <td>2.919977e+07</td>\n",
       "    </tr>\n",
       "    <tr>\n",
       "      <th>min</th>\n",
       "      <td>118.326724</td>\n",
       "      <td>119.688628</td>\n",
       "      <td>115.523378</td>\n",
       "      <td>115.672493</td>\n",
       "      <td>4.100000e+07</td>\n",
       "    </tr>\n",
       "    <tr>\n",
       "      <th>25%</th>\n",
       "      <td>127.823131</td>\n",
       "      <td>129.664335</td>\n",
       "      <td>126.495048</td>\n",
       "      <td>128.009243</td>\n",
       "      <td>6.897910e+07</td>\n",
       "    </tr>\n",
       "    <tr>\n",
       "      <th>50%</th>\n",
       "      <td>140.166826</td>\n",
       "      <td>141.837030</td>\n",
       "      <td>138.361533</td>\n",
       "      <td>140.867500</td>\n",
       "      <td>8.563055e+07</td>\n",
       "    </tr>\n",
       "    <tr>\n",
       "      <th>75%</th>\n",
       "      <td>148.433212</td>\n",
       "      <td>149.347881</td>\n",
       "      <td>147.318451</td>\n",
       "      <td>148.493031</td>\n",
       "      <td>1.067201e+08</td>\n",
       "    </tr>\n",
       "    <tr>\n",
       "      <th>max</th>\n",
       "      <td>180.889532</td>\n",
       "      <td>181.898256</td>\n",
       "      <td>178.302832</td>\n",
       "      <td>180.100540</td>\n",
       "      <td>1.954327e+08</td>\n",
       "    </tr>\n",
       "  </tbody>\n",
       "</table>\n",
       "</div>"
      ],
      "text/plain": [
       "             Open        High         Low       Close        Volume\n",
       "count  252.000000  252.000000  252.000000  252.000000  2.520000e+02\n",
       "mean   140.305948  141.786111  138.924140  140.433300  9.051701e+07\n",
       "std     14.655287   14.918699   14.608984   14.822319  2.919977e+07\n",
       "min    118.326724  119.688628  115.523378  115.672493  4.100000e+07\n",
       "25%    127.823131  129.664335  126.495048  128.009243  6.897910e+07\n",
       "50%    140.166826  141.837030  138.361533  140.867500  8.563055e+07\n",
       "75%    148.433212  149.347881  147.318451  148.493031  1.067201e+08\n",
       "max    180.889532  181.898256  178.302832  180.100540  1.954327e+08"
      ]
     },
     "execution_count": 6,
     "metadata": {},
     "output_type": "execute_result"
    }
   ],
   "source": [
    "data.describe()"
   ]
  },
  {
   "cell_type": "code",
   "execution_count": 7,
   "metadata": {},
   "outputs": [
    {
     "data": {
      "image/png": "[encoded data removed]",
      "text/plain": [
       "<Figure size 720x504 with 1 Axes>"
      ]
     },
     "metadata": {
      "needs_background": "light"
     },
     "output_type": "display_data"
    }
   ],
   "source": [
    "data.Close.plot(figsize=(10, 7),color='r')\n",
    "plt.ylabel(\"{} Prices\".format(stocks))\n",
    "plt.title(\"{} Price Series\".format(stocks))\n",
    "plt.show()"
   ]
  },
  {
   "cell_type": "code",
   "execution_count": 8,
   "metadata": {},
   "outputs": [
    {
     "name": "stderr",
     "output_type": "stream",
     "text": [
      "/Library/Frameworks/Python.framework/Versions/3.10/lib/python3.10/site-packages/seaborn/distributions.py:2619: FutureWarning: `distplot` is a deprecated function and will be removed in a future version. Please adapt your code to use either `displot` (a figure-level function with similar flexibility) or `histplot` (an axes-level function for histograms).\n",
      "  warnings.warn(msg, FutureWarning)\n"
     ]
    },
    {
     "data": {
      "text/plain": [
       "<AxesSubplot:xlabel='Close', ylabel='Density'>"
      ]
     },
     "execution_count": 8,
     "metadata": {},
     "output_type": "execute_result"
    },
    {
     "data": {
      "image/png": "[encoded data removed]",
      "text/plain": [
       "<Figure size 432x288 with 1 Axes>"
      ]
     },
     "metadata": {
      "needs_background": "light"
     },
     "output_type": "display_data"
    }
   ],
   "source": [
    "sns.distplot(data[\"Close\"])"
   ]
  },
  {
   "cell_type": "code",
   "execution_count": 9,
   "metadata": {},
   "outputs": [
    {
     "name": "stderr",
     "output_type": "stream",
     "text": [
      "/Library/Frameworks/Python.framework/Versions/3.10/lib/python3.10/site-packages/seaborn/distributions.py:2619: FutureWarning: `distplot` is a deprecated function and will be removed in a future version. Please adapt your code to use either `displot` (a figure-level function with similar flexibility) or `histplot` (an axes-level function for histograms).\n",
      "  warnings.warn(msg, FutureWarning)\n"
     ]
    },
    {
     "data": {
      "text/plain": [
       "<AxesSubplot:xlabel='Open', ylabel='Density'>"
      ]
     },
     "execution_count": 9,
     "metadata": {},
     "output_type": "execute_result"
    },
    {
     "data": {
      "image/png": "[encoded data removed]",
      "text/plain": [
       "<Figure size 432x288 with 1 Axes>"
      ]
     },
     "metadata": {
      "needs_background": "light"
     },
     "output_type": "display_data"
    }
   ],
   "source": [
    "sns.distplot(data[\"Open\"])"
   ]
  },
  {
   "cell_type": "code",
   "execution_count": 10,
   "metadata": {},
   "outputs": [
    {
     "name": "stderr",
     "output_type": "stream",
     "text": [
      "/Library/Frameworks/Python.framework/Versions/3.10/lib/python3.10/site-packages/seaborn/distributions.py:2619: FutureWarning: `distplot` is a deprecated function and will be removed in a future version. Please adapt your code to use either `displot` (a figure-level function with similar flexibility) or `histplot` (an axes-level function for histograms).\n",
      "  warnings.warn(msg, FutureWarning)\n"
     ]
    },
    {
     "data": {
      "text/plain": [
       "<AxesSubplot:xlabel='High', ylabel='Density'>"
      ]
     },
     "execution_count": 10,
     "metadata": {},
     "output_type": "execute_result"
    },
    {
     "data": {
      "image/png": "[encoded data removed]",
      "text/plain": [
       "<Figure size 432x288 with 1 Axes>"
      ]
     },
     "metadata": {
      "needs_background": "light"
     },
     "output_type": "display_data"
    }
   ],
   "source": [
    "sns.distplot(data[\"High\"])"
   ]
  },
  {
   "cell_type": "code",
   "execution_count": 12,
   "metadata": {},
   "outputs": [
    {
     "name": "stdout",
     "output_type": "stream",
     "text": [
      "(8, 4)\n",
      "(2, 4)\n",
      "(8,)\n",
      "(2,)\n"
     ]
    }
   ],
   "source": [
    "# Conlusions  \n",
    "\n",
    "# - Shape the of the data  \n",
    "# - how our data is distributed \n",
    "# - It's very very non linear  \n",
    "\n",
    "# Linear, Logis, Regularized, SVM \n",
    "\n",
    "X = data.drop(\"Close\", axis=1) \n",
    "y = data[\"Close\"] \n",
    "\n",
    "from sklearn.model_selection import train_test_split \n",
    "\n",
    "X_train, X_test, y_train, y_test  = train_test_split(X,y,test_size=0.2, random_state=0) \n",
    "print(X_train.shape) \n",
    "print(X_test.shape) \n",
    "print(y_train.shape) \n",
    "print(y_test.shape) "
   ]
  },
  {
   "cell_type": "code",
   "execution_count": 13,
   "metadata": {},
   "outputs": [],
   "source": [
    "from sklearn.linear_model import LinearRegression\n",
    "\n",
    "lr = LinearRegression() \n",
    "lr.fit(X_train, y_train) \n",
    "pred1 = lr.predict(X_test)"
   ]
  },
  {
   "cell_type": "code",
   "execution_count": 14,
   "metadata": {},
   "outputs": [
    {
     "name": "stdout",
     "output_type": "stream",
     "text": [
      "MSE:-  1.0523983196260585\n",
      "RMSE:-  1.0258646692551892\n",
      "R2_score:-  0.19932122541279285\n"
     ]
    }
   ],
   "source": [
    "# MSE -- > Mean Squared  \n",
    "# RMSE ---> sart(MSE) \n",
    "# r2_square ---> 1.0 # good model \n",
    "\n",
    "from sklearn.metrics import mean_squared_error, r2_score \n",
    "\n",
    "\n",
    "def calculate_metrics(y_test, y_pred):  \n",
    "    ''' \n",
    "    y_test:- ground truth \n",
    "    y_pred:- model predict  \n",
    "    '''\n",
    "    mse = mean_squared_error(y_test, y_pred) \n",
    "    rmse = np.sqrt(mse) \n",
    "    r2_scors = r2_score(y_test, y_pred) \n",
    "    \n",
    "    print(\"MSE:- \", mse) \n",
    "    print(\"RMSE:- \", rmse) \n",
    "    print(\"R2_score:- \", r2_scors) \n",
    "    \n",
    "calculate_metrics(y_test, pred1)"
   ]
  },
  {
   "cell_type": "code",
   "execution_count": 15,
   "metadata": {},
   "outputs": [],
   "source": [
    "from sklearn.linear_model import Lasso, Ridge \n",
    "\n",
    "la = Lasso().fit(X_train, y_train )\n",
    "ri = Ridge().fit(X_train, y_train ) \n",
    "\n",
    "la_p = la.predict(X_test) \n",
    "ri_p = ri.predict(X_test)"
   ]
  },
  {
   "cell_type": "code",
   "execution_count": 16,
   "metadata": {},
   "outputs": [
    {
     "name": "stdout",
     "output_type": "stream",
     "text": [
      "MSE:-  2.088975094334018\n",
      "RMSE:-  1.4453287149759455\n",
      "R2_score:-  -0.5893203053278058\n"
     ]
    }
   ],
   "source": [
    "calculate_metrics(y_test, la_p)"
   ]
  },
  {
   "cell_type": "code",
   "execution_count": 17,
   "metadata": {},
   "outputs": [
    {
     "name": "stdout",
     "output_type": "stream",
     "text": [
      "MSE:-  1.3533717811117942\n",
      "RMSE:-  1.1633450825579632\n",
      "R2_score:-  -0.029663425960743783\n"
     ]
    }
   ],
   "source": [
    "calculate_metrics(y_test, ri_p)"
   ]
  },
  {
   "cell_type": "code",
   "execution_count": 18,
   "metadata": {
    "scrolled": true
   },
   "outputs": [
    {
     "name": "stdout",
     "output_type": "stream",
     "text": [
      "Fitting 5 folds for each of 25 candidates, totalling 125 fits\n",
      "[CV 1/5] END .......C=0.1, gamma=1, kernel=rbf;, score=-0.051 total time=   0.0s\n",
      "[CV 2/5] END .......C=0.1, gamma=1, kernel=rbf;, score=-0.049 total time=   0.0s\n",
      "[CV 3/5] END ...C=0.1, gamma=1, kernel=rbf;, score=-13003.480 total time=   0.0s\n",
      "[CV 4/5] END ..........C=0.1, gamma=1, kernel=rbf;, score=nan total time=   0.0s\n",
      "[CV 5/5] END ..........C=0.1, gamma=1, kernel=rbf;, score=nan total time=   0.0s\n",
      "[CV 1/5] END .....C=0.1, gamma=0.1, kernel=rbf;, score=-0.051 total time=   0.0s\n",
      "[CV 2/5] END .....C=0.1, gamma=0.1, kernel=rbf;, score=-0.049 total time=   0.0s\n",
      "[CV 3/5] END .C=0.1, gamma=0.1, kernel=rbf;, score=-13003.480 total time=   0.0s\n",
      "[CV 4/5] END ........C=0.1, gamma=0.1, kernel=rbf;, score=nan total time=   0.0s\n",
      "[CV 5/5] END ........C=0.1, gamma=0.1, kernel=rbf;, score=nan total time=   0.0s\n",
      "[CV 1/5] END ....C=0.1, gamma=0.01, kernel=rbf;, score=-0.051 total time=   0.0s\n",
      "[CV 2/5] END ....C=0.1, gamma=0.01, kernel=rbf;, score=-0.049 total time=   0.0s\n",
      "[CV 3/5] END C=0.1, gamma=0.01, kernel=rbf;, score=-13003.480 total time=   0.0s\n",
      "[CV 4/5] END .......C=0.1, gamma=0.01, kernel=rbf;, score=nan total time=   0.0s\n",
      "[CV 5/5] END .......C=0.1, gamma=0.01, kernel=rbf;, score=nan total time=   0.0s\n",
      "[CV 1/5] END ...C=0.1, gamma=0.001, kernel=rbf;, score=-0.051 total time=   0.0s\n",
      "[CV 2/5] END ...C=0.1, gamma=0.001, kernel=rbf;, score=-0.049 total time=   0.0s\n",
      "[CV 3/5] END C=0.1, gamma=0.001, kernel=rbf;, score=-13003.480 total time=   0.0s\n",
      "[CV 4/5] END ......C=0.1, gamma=0.001, kernel=rbf;, score=nan total time=   0.0s\n",
      "[CV 5/5] END ......C=0.1, gamma=0.001, kernel=rbf;, score=nan total time=   0.0s\n",
      "[CV 1/5] END ..C=0.1, gamma=0.0001, kernel=rbf;, score=-0.051 total time=   0.0s\n",
      "[CV 2/5] END ..C=0.1, gamma=0.0001, kernel=rbf;, score=-0.049 total time=   0.0s\n",
      "[CV 3/5] END C=0.1, gamma=0.0001, kernel=rbf;, score=-13003.480 total time=   0.0s\n",
      "[CV 4/5] END .....C=0.1, gamma=0.0001, kernel=rbf;, score=nan total time=   0.0s\n",
      "[CV 5/5] END .....C=0.1, gamma=0.0001, kernel=rbf;, score=nan total time=   0.0s\n",
      "[CV 1/5] END .........C=1, gamma=1, kernel=rbf;, score=-0.030 total time=   0.0s\n",
      "[CV 2/5] END .........C=1, gamma=1, kernel=rbf;, score=-0.017 total time=   0.0s\n",
      "[CV 3/5] END ......C=1, gamma=1, kernel=rbf;, score=-8847.789 total time=   0.0s\n",
      "[CV 4/5] END ............C=1, gamma=1, kernel=rbf;, score=nan total time=   0.0s\n",
      "[CV 5/5] END ............C=1, gamma=1, kernel=rbf;, score=nan total time=   0.0s\n",
      "[CV 1/5] END .......C=1, gamma=0.1, kernel=rbf;, score=-0.030 total time=   0.0s\n",
      "[CV 2/5] END .......C=1, gamma=0.1, kernel=rbf;, score=-0.017 total time=   0.0s\n",
      "[CV 3/5] END ....C=1, gamma=0.1, kernel=rbf;, score=-8847.789 total time=   0.0s\n",
      "[CV 4/5] END ..........C=1, gamma=0.1, kernel=rbf;, score=nan total time=   0.0s\n",
      "[CV 5/5] END ..........C=1, gamma=0.1, kernel=rbf;, score=nan total time=   0.0s\n",
      "[CV 1/5] END ......C=1, gamma=0.01, kernel=rbf;, score=-0.030 total time=   0.0s\n",
      "[CV 2/5] END ......C=1, gamma=0.01, kernel=rbf;, score=-0.017 total time=   0.0s\n",
      "[CV 3/5] END ...C=1, gamma=0.01, kernel=rbf;, score=-8847.789 total time=   0.0s\n",
      "[CV 4/5] END .........C=1, gamma=0.01, kernel=rbf;, score=nan total time=   0.0s\n",
      "[CV 5/5] END .........C=1, gamma=0.01, kernel=rbf;, score=nan total time=   0.0s\n",
      "[CV 1/5] END .....C=1, gamma=0.001, kernel=rbf;, score=-0.030 total time=   0.0s\n",
      "[CV 2/5] END .....C=1, gamma=0.001, kernel=rbf;, score=-0.017 total time=   0.0s\n",
      "[CV 3/5] END ..C=1, gamma=0.001, kernel=rbf;, score=-8847.789 total time=   0.0s\n",
      "[CV 4/5] END ........C=1, gamma=0.001, kernel=rbf;, score=nan total time=   0.0s\n",
      "[CV 5/5] END ........C=1, gamma=0.001, kernel=rbf;, score=nan total time=   0.0s\n",
      "[CV 1/5] END ....C=1, gamma=0.0001, kernel=rbf;, score=-0.030 total time=   0.0s\n",
      "[CV 2/5] END ....C=1, gamma=0.0001, kernel=rbf;, score=-0.017 total time=   0.0s\n",
      "[CV 3/5] END .C=1, gamma=0.0001, kernel=rbf;, score=-8847.789 total time=   0.0s\n",
      "[CV 4/5] END .......C=1, gamma=0.0001, kernel=rbf;, score=nan total time=   0.0s\n",
      "[CV 5/5] END .......C=1, gamma=0.0001, kernel=rbf;, score=nan total time=   0.0s\n",
      "[CV 1/5] END ........C=10, gamma=1, kernel=rbf;, score=-0.027 total time=   0.0s\n",
      "[CV 2/5] END ........C=10, gamma=1, kernel=rbf;, score=-0.000 total time=   0.0s\n",
      "[CV 3/5] END .....C=10, gamma=1, kernel=rbf;, score=-7589.818 total time=   0.0s\n",
      "[CV 4/5] END ...........C=10, gamma=1, kernel=rbf;, score=nan total time=   0.0s\n",
      "[CV 5/5] END ...........C=10, gamma=1, kernel=rbf;, score=nan total time=   0.0s\n",
      "[CV 1/5] END ......C=10, gamma=0.1, kernel=rbf;, score=-0.027 total time=   0.0s\n",
      "[CV 2/5] END ......C=10, gamma=0.1, kernel=rbf;, score=-0.000 total time=   0.0s\n",
      "[CV 3/5] END ...C=10, gamma=0.1, kernel=rbf;, score=-7589.818 total time=   0.0s\n",
      "[CV 4/5] END .........C=10, gamma=0.1, kernel=rbf;, score=nan total time=   0.0s\n",
      "[CV 5/5] END .........C=10, gamma=0.1, kernel=rbf;, score=nan total time=   0.0s\n",
      "[CV 1/5] END .....C=10, gamma=0.01, kernel=rbf;, score=-0.027 total time=   0.0s\n",
      "[CV 2/5] END .....C=10, gamma=0.01, kernel=rbf;, score=-0.000 total time=   0.0s\n",
      "[CV 3/5] END ..C=10, gamma=0.01, kernel=rbf;, score=-7589.818 total time=   0.0s\n",
      "[CV 4/5] END ........C=10, gamma=0.01, kernel=rbf;, score=nan total time=   0.0s\n",
      "[CV 5/5] END ........C=10, gamma=0.01, kernel=rbf;, score=nan total time=   0.0s\n",
      "[CV 1/5] END ....C=10, gamma=0.001, kernel=rbf;, score=-0.027 total time=   0.0s\n",
      "[CV 2/5] END ....C=10, gamma=0.001, kernel=rbf;, score=-0.000 total time=   0.0s\n",
      "[CV 3/5] END .C=10, gamma=0.001, kernel=rbf;, score=-7589.818 total time=   0.0s\n",
      "[CV 4/5] END .......C=10, gamma=0.001, kernel=rbf;, score=nan total time=   0.0s\n",
      "[CV 5/5] END .......C=10, gamma=0.001, kernel=rbf;, score=nan total time=   0.0s\n",
      "[CV 1/5] END ...C=10, gamma=0.0001, kernel=rbf;, score=-0.027 total time=   0.0s\n",
      "[CV 2/5] END ...C=10, gamma=0.0001, kernel=rbf;, score=-0.000 total time=   0.0s\n",
      "[CV 3/5] END C=10, gamma=0.0001, kernel=rbf;, score=-7589.818 total time=   0.0s\n",
      "[CV 4/5] END ......C=10, gamma=0.0001, kernel=rbf;, score=nan total time=   0.0s\n",
      "[CV 5/5] END ......C=10, gamma=0.0001, kernel=rbf;, score=nan total time=   0.0s\n",
      "[CV 1/5] END .......C=100, gamma=1, kernel=rbf;, score=-0.027 total time=   0.0s\n",
      "[CV 2/5] END .......C=100, gamma=1, kernel=rbf;, score=-0.000 total time=   0.0s\n",
      "[CV 3/5] END ....C=100, gamma=1, kernel=rbf;, score=-7589.818 total time=   0.0s\n",
      "[CV 4/5] END ..........C=100, gamma=1, kernel=rbf;, score=nan total time=   0.0s\n",
      "[CV 5/5] END ..........C=100, gamma=1, kernel=rbf;, score=nan total time=   0.0s\n",
      "[CV 1/5] END .....C=100, gamma=0.1, kernel=rbf;, score=-0.027 total time=   0.0s\n",
      "[CV 2/5] END .....C=100, gamma=0.1, kernel=rbf;, score=-0.000 total time=   0.0s\n",
      "[CV 3/5] END ..C=100, gamma=0.1, kernel=rbf;, score=-7589.818 total time=   0.0s\n",
      "[CV 4/5] END ........C=100, gamma=0.1, kernel=rbf;, score=nan total time=   0.0s\n",
      "[CV 5/5] END ........C=100, gamma=0.1, kernel=rbf;, score=nan total time=   0.0s\n",
      "[CV 1/5] END ....C=100, gamma=0.01, kernel=rbf;, score=-0.027 total time=   0.0s\n",
      "[CV 2/5] END ....C=100, gamma=0.01, kernel=rbf;, score=-0.000 total time=   0.0s\n",
      "[CV 3/5] END .C=100, gamma=0.01, kernel=rbf;, score=-7589.818 total time=   0.0s\n",
      "[CV 4/5] END .......C=100, gamma=0.01, kernel=rbf;, score=nan total time=   0.0s\n",
      "[CV 5/5] END .......C=100, gamma=0.01, kernel=rbf;, score=nan total time=   0.0s\n",
      "[CV 1/5] END ...C=100, gamma=0.001, kernel=rbf;, score=-0.027 total time=   0.0s\n",
      "[CV 2/5] END ...C=100, gamma=0.001, kernel=rbf;, score=-0.000 total time=   0.0s\n",
      "[CV 3/5] END C=100, gamma=0.001, kernel=rbf;, score=-7589.818 total time=   0.0s\n",
      "[CV 4/5] END ......C=100, gamma=0.001, kernel=rbf;, score=nan total time=   0.0s\n",
      "[CV 5/5] END ......C=100, gamma=0.001, kernel=rbf;, score=nan total time=   0.0s\n",
      "[CV 1/5] END ..C=100, gamma=0.0001, kernel=rbf;, score=-0.027 total time=   0.0s\n",
      "[CV 2/5] END ..C=100, gamma=0.0001, kernel=rbf;, score=-0.000 total time=   0.0s\n",
      "[CV 3/5] END C=100, gamma=0.0001, kernel=rbf;, score=-7589.818 total time=   0.0s\n",
      "[CV 4/5] END .....C=100, gamma=0.0001, kernel=rbf;, score=nan total time=   0.0s\n",
      "[CV 5/5] END .....C=100, gamma=0.0001, kernel=rbf;, score=nan total time=   0.0s\n",
      "[CV 1/5] END ......C=1000, gamma=1, kernel=rbf;, score=-0.027 total time=   0.0s\n",
      "[CV 2/5] END ......C=1000, gamma=1, kernel=rbf;, score=-0.000 total time=   0.0s\n",
      "[CV 3/5] END ...C=1000, gamma=1, kernel=rbf;, score=-7589.818 total time=   0.0s\n",
      "[CV 4/5] END .........C=1000, gamma=1, kernel=rbf;, score=nan total time=   0.0s\n",
      "[CV 5/5] END .........C=1000, gamma=1, kernel=rbf;, score=nan total time=   0.0s\n",
      "[CV 1/5] END ....C=1000, gamma=0.1, kernel=rbf;, score=-0.027 total time=   0.0s\n",
      "[CV 2/5] END ....C=1000, gamma=0.1, kernel=rbf;, score=-0.000 total time=   0.0s\n",
      "[CV 3/5] END .C=1000, gamma=0.1, kernel=rbf;, score=-7589.818 total time=   0.0s\n",
      "[CV 4/5] END .......C=1000, gamma=0.1, kernel=rbf;, score=nan total time=   0.0s\n",
      "[CV 5/5] END .......C=1000, gamma=0.1, kernel=rbf;, score=nan total time=   0.0s\n",
      "[CV 1/5] END ...C=1000, gamma=0.01, kernel=rbf;, score=-0.027 total time=   0.0s\n",
      "[CV 2/5] END ...C=1000, gamma=0.01, kernel=rbf;, score=-0.000 total time=   0.0s\n",
      "[CV 3/5] END C=1000, gamma=0.01, kernel=rbf;, score=-7589.818 total time=   0.0s\n",
      "[CV 4/5] END ......C=1000, gamma=0.01, kernel=rbf;, score=nan total time=   0.0s\n",
      "[CV 5/5] END ......C=1000, gamma=0.01, kernel=rbf;, score=nan total time=   0.0s\n",
      "[CV 1/5] END ..C=1000, gamma=0.001, kernel=rbf;, score=-0.027 total time=   0.0s\n",
      "[CV 2/5] END ..C=1000, gamma=0.001, kernel=rbf;, score=-0.000 total time=   0.0s\n",
      "[CV 3/5] END C=1000, gamma=0.001, kernel=rbf;, score=-7589.818 total time=   0.0s\n",
      "[CV 4/5] END .....C=1000, gamma=0.001, kernel=rbf;, score=nan total time=   0.0s\n",
      "[CV 5/5] END .....C=1000, gamma=0.001, kernel=rbf;, score=nan total time=   0.0s\n",
      "[CV 1/5] END .C=1000, gamma=0.0001, kernel=rbf;, score=-0.027 total time=   0.0s\n",
      "[CV 2/5] END .C=1000, gamma=0.0001, kernel=rbf;, score=-0.000 total time=   0.0s\n",
      "[CV 3/5] END C=1000, gamma=0.0001, kernel=rbf;, score=-7589.818 total time=   0.0s\n",
      "[CV 4/5] END ....C=1000, gamma=0.0001, kernel=rbf;, score=nan total time=   0.0s\n",
      "[CV 5/5] END ....C=1000, gamma=0.0001, kernel=rbf;, score=nan total time=   0.0s\n"
     ]
    },
    {
     "name": "stderr",
     "output_type": "stream",
     "text": [
      "/Library/Frameworks/Python.framework/Versions/3.10/lib/python3.10/site-packages/sklearn/metrics/_regression.py:796: UndefinedMetricWarning: R^2 score is not well-defined with less than two samples.\n",
      "  warnings.warn(msg, UndefinedMetricWarning)\n",
      "/Library/Frameworks/Python.framework/Versions/3.10/lib/python3.10/site-packages/sklearn/metrics/_regression.py:796: UndefinedMetricWarning: R^2 score is not well-defined with less than two samples.\n",
      "  warnings.warn(msg, UndefinedMetricWarning)\n",
      "/Library/Frameworks/Python.framework/Versions/3.10/lib/python3.10/site-packages/sklearn/metrics/_regression.py:796: UndefinedMetricWarning: R^2 score is not well-defined with less than two samples.\n",
      "  warnings.warn(msg, UndefinedMetricWarning)\n",
      "/Library/Frameworks/Python.framework/Versions/3.10/lib/python3.10/site-packages/sklearn/metrics/_regression.py:796: UndefinedMetricWarning: R^2 score is not well-defined with less than two samples.\n",
      "  warnings.warn(msg, UndefinedMetricWarning)\n",
      "/Library/Frameworks/Python.framework/Versions/3.10/lib/python3.10/site-packages/sklearn/metrics/_regression.py:796: UndefinedMetricWarning: R^2 score is not well-defined with less than two samples.\n",
      "  warnings.warn(msg, UndefinedMetricWarning)\n",
      "/Library/Frameworks/Python.framework/Versions/3.10/lib/python3.10/site-packages/sklearn/metrics/_regression.py:796: UndefinedMetricWarning: R^2 score is not well-defined with less than two samples.\n",
      "  warnings.warn(msg, UndefinedMetricWarning)\n",
      "/Library/Frameworks/Python.framework/Versions/3.10/lib/python3.10/site-packages/sklearn/metrics/_regression.py:796: UndefinedMetricWarning: R^2 score is not well-defined with less than two samples.\n",
      "  warnings.warn(msg, UndefinedMetricWarning)\n",
      "/Library/Frameworks/Python.framework/Versions/3.10/lib/python3.10/site-packages/sklearn/metrics/_regression.py:796: UndefinedMetricWarning: R^2 score is not well-defined with less than two samples.\n",
      "  warnings.warn(msg, UndefinedMetricWarning)\n",
      "/Library/Frameworks/Python.framework/Versions/3.10/lib/python3.10/site-packages/sklearn/metrics/_regression.py:796: UndefinedMetricWarning: R^2 score is not well-defined with less than two samples.\n",
      "  warnings.warn(msg, UndefinedMetricWarning)\n",
      "/Library/Frameworks/Python.framework/Versions/3.10/lib/python3.10/site-packages/sklearn/metrics/_regression.py:796: UndefinedMetricWarning: R^2 score is not well-defined with less than two samples.\n",
      "  warnings.warn(msg, UndefinedMetricWarning)\n",
      "/Library/Frameworks/Python.framework/Versions/3.10/lib/python3.10/site-packages/sklearn/metrics/_regression.py:796: UndefinedMetricWarning: R^2 score is not well-defined with less than two samples.\n",
      "  warnings.warn(msg, UndefinedMetricWarning)\n",
      "/Library/Frameworks/Python.framework/Versions/3.10/lib/python3.10/site-packages/sklearn/metrics/_regression.py:796: UndefinedMetricWarning: R^2 score is not well-defined with less than two samples.\n",
      "  warnings.warn(msg, UndefinedMetricWarning)\n",
      "/Library/Frameworks/Python.framework/Versions/3.10/lib/python3.10/site-packages/sklearn/metrics/_regression.py:796: UndefinedMetricWarning: R^2 score is not well-defined with less than two samples.\n",
      "  warnings.warn(msg, UndefinedMetricWarning)\n",
      "/Library/Frameworks/Python.framework/Versions/3.10/lib/python3.10/site-packages/sklearn/metrics/_regression.py:796: UndefinedMetricWarning: R^2 score is not well-defined with less than two samples.\n",
      "  warnings.warn(msg, UndefinedMetricWarning)\n",
      "/Library/Frameworks/Python.framework/Versions/3.10/lib/python3.10/site-packages/sklearn/metrics/_regression.py:796: UndefinedMetricWarning: R^2 score is not well-defined with less than two samples.\n",
      "  warnings.warn(msg, UndefinedMetricWarning)\n",
      "/Library/Frameworks/Python.framework/Versions/3.10/lib/python3.10/site-packages/sklearn/metrics/_regression.py:796: UndefinedMetricWarning: R^2 score is not well-defined with less than two samples.\n",
      "  warnings.warn(msg, UndefinedMetricWarning)\n",
      "/Library/Frameworks/Python.framework/Versions/3.10/lib/python3.10/site-packages/sklearn/metrics/_regression.py:796: UndefinedMetricWarning: R^2 score is not well-defined with less than two samples.\n",
      "  warnings.warn(msg, UndefinedMetricWarning)\n",
      "/Library/Frameworks/Python.framework/Versions/3.10/lib/python3.10/site-packages/sklearn/metrics/_regression.py:796: UndefinedMetricWarning: R^2 score is not well-defined with less than two samples.\n",
      "  warnings.warn(msg, UndefinedMetricWarning)\n",
      "/Library/Frameworks/Python.framework/Versions/3.10/lib/python3.10/site-packages/sklearn/metrics/_regression.py:796: UndefinedMetricWarning: R^2 score is not well-defined with less than two samples.\n",
      "  warnings.warn(msg, UndefinedMetricWarning)\n",
      "/Library/Frameworks/Python.framework/Versions/3.10/lib/python3.10/site-packages/sklearn/metrics/_regression.py:796: UndefinedMetricWarning: R^2 score is not well-defined with less than two samples.\n",
      "  warnings.warn(msg, UndefinedMetricWarning)\n",
      "/Library/Frameworks/Python.framework/Versions/3.10/lib/python3.10/site-packages/sklearn/metrics/_regression.py:796: UndefinedMetricWarning: R^2 score is not well-defined with less than two samples.\n",
      "  warnings.warn(msg, UndefinedMetricWarning)\n",
      "/Library/Frameworks/Python.framework/Versions/3.10/lib/python3.10/site-packages/sklearn/metrics/_regression.py:796: UndefinedMetricWarning: R^2 score is not well-defined with less than two samples.\n",
      "  warnings.warn(msg, UndefinedMetricWarning)\n",
      "/Library/Frameworks/Python.framework/Versions/3.10/lib/python3.10/site-packages/sklearn/metrics/_regression.py:796: UndefinedMetricWarning: R^2 score is not well-defined with less than two samples.\n",
      "  warnings.warn(msg, UndefinedMetricWarning)\n",
      "/Library/Frameworks/Python.framework/Versions/3.10/lib/python3.10/site-packages/sklearn/metrics/_regression.py:796: UndefinedMetricWarning: R^2 score is not well-defined with less than two samples.\n",
      "  warnings.warn(msg, UndefinedMetricWarning)\n",
      "/Library/Frameworks/Python.framework/Versions/3.10/lib/python3.10/site-packages/sklearn/metrics/_regression.py:796: UndefinedMetricWarning: R^2 score is not well-defined with less than two samples.\n",
      "  warnings.warn(msg, UndefinedMetricWarning)\n",
      "/Library/Frameworks/Python.framework/Versions/3.10/lib/python3.10/site-packages/sklearn/metrics/_regression.py:796: UndefinedMetricWarning: R^2 score is not well-defined with less than two samples.\n",
      "  warnings.warn(msg, UndefinedMetricWarning)\n",
      "/Library/Frameworks/Python.framework/Versions/3.10/lib/python3.10/site-packages/sklearn/metrics/_regression.py:796: UndefinedMetricWarning: R^2 score is not well-defined with less than two samples.\n",
      "  warnings.warn(msg, UndefinedMetricWarning)\n",
      "/Library/Frameworks/Python.framework/Versions/3.10/lib/python3.10/site-packages/sklearn/metrics/_regression.py:796: UndefinedMetricWarning: R^2 score is not well-defined with less than two samples.\n",
      "  warnings.warn(msg, UndefinedMetricWarning)\n",
      "/Library/Frameworks/Python.framework/Versions/3.10/lib/python3.10/site-packages/sklearn/metrics/_regression.py:796: UndefinedMetricWarning: R^2 score is not well-defined with less than two samples.\n",
      "  warnings.warn(msg, UndefinedMetricWarning)\n",
      "/Library/Frameworks/Python.framework/Versions/3.10/lib/python3.10/site-packages/sklearn/metrics/_regression.py:796: UndefinedMetricWarning: R^2 score is not well-defined with less than two samples.\n",
      "  warnings.warn(msg, UndefinedMetricWarning)\n",
      "/Library/Frameworks/Python.framework/Versions/3.10/lib/python3.10/site-packages/sklearn/metrics/_regression.py:796: UndefinedMetricWarning: R^2 score is not well-defined with less than two samples.\n",
      "  warnings.warn(msg, UndefinedMetricWarning)\n",
      "/Library/Frameworks/Python.framework/Versions/3.10/lib/python3.10/site-packages/sklearn/metrics/_regression.py:796: UndefinedMetricWarning: R^2 score is not well-defined with less than two samples.\n",
      "  warnings.warn(msg, UndefinedMetricWarning)\n",
      "/Library/Frameworks/Python.framework/Versions/3.10/lib/python3.10/site-packages/sklearn/metrics/_regression.py:796: UndefinedMetricWarning: R^2 score is not well-defined with less than two samples.\n",
      "  warnings.warn(msg, UndefinedMetricWarning)\n",
      "/Library/Frameworks/Python.framework/Versions/3.10/lib/python3.10/site-packages/sklearn/metrics/_regression.py:796: UndefinedMetricWarning: R^2 score is not well-defined with less than two samples.\n",
      "  warnings.warn(msg, UndefinedMetricWarning)\n",
      "/Library/Frameworks/Python.framework/Versions/3.10/lib/python3.10/site-packages/sklearn/metrics/_regression.py:796: UndefinedMetricWarning: R^2 score is not well-defined with less than two samples.\n",
      "  warnings.warn(msg, UndefinedMetricWarning)\n",
      "/Library/Frameworks/Python.framework/Versions/3.10/lib/python3.10/site-packages/sklearn/metrics/_regression.py:796: UndefinedMetricWarning: R^2 score is not well-defined with less than two samples.\n",
      "  warnings.warn(msg, UndefinedMetricWarning)\n",
      "/Library/Frameworks/Python.framework/Versions/3.10/lib/python3.10/site-packages/sklearn/metrics/_regression.py:796: UndefinedMetricWarning: R^2 score is not well-defined with less than two samples.\n",
      "  warnings.warn(msg, UndefinedMetricWarning)\n",
      "/Library/Frameworks/Python.framework/Versions/3.10/lib/python3.10/site-packages/sklearn/metrics/_regression.py:796: UndefinedMetricWarning: R^2 score is not well-defined with less than two samples.\n",
      "  warnings.warn(msg, UndefinedMetricWarning)\n",
      "/Library/Frameworks/Python.framework/Versions/3.10/lib/python3.10/site-packages/sklearn/metrics/_regression.py:796: UndefinedMetricWarning: R^2 score is not well-defined with less than two samples.\n",
      "  warnings.warn(msg, UndefinedMetricWarning)\n",
      "/Library/Frameworks/Python.framework/Versions/3.10/lib/python3.10/site-packages/sklearn/metrics/_regression.py:796: UndefinedMetricWarning: R^2 score is not well-defined with less than two samples.\n",
      "  warnings.warn(msg, UndefinedMetricWarning)\n",
      "/Library/Frameworks/Python.framework/Versions/3.10/lib/python3.10/site-packages/sklearn/metrics/_regression.py:796: UndefinedMetricWarning: R^2 score is not well-defined with less than two samples.\n",
      "  warnings.warn(msg, UndefinedMetricWarning)\n",
      "/Library/Frameworks/Python.framework/Versions/3.10/lib/python3.10/site-packages/sklearn/metrics/_regression.py:796: UndefinedMetricWarning: R^2 score is not well-defined with less than two samples.\n",
      "  warnings.warn(msg, UndefinedMetricWarning)\n",
      "/Library/Frameworks/Python.framework/Versions/3.10/lib/python3.10/site-packages/sklearn/metrics/_regression.py:796: UndefinedMetricWarning: R^2 score is not well-defined with less than two samples.\n",
      "  warnings.warn(msg, UndefinedMetricWarning)\n",
      "/Library/Frameworks/Python.framework/Versions/3.10/lib/python3.10/site-packages/sklearn/metrics/_regression.py:796: UndefinedMetricWarning: R^2 score is not well-defined with less than two samples.\n",
      "  warnings.warn(msg, UndefinedMetricWarning)\n",
      "/Library/Frameworks/Python.framework/Versions/3.10/lib/python3.10/site-packages/sklearn/metrics/_regression.py:796: UndefinedMetricWarning: R^2 score is not well-defined with less than two samples.\n",
      "  warnings.warn(msg, UndefinedMetricWarning)\n",
      "/Library/Frameworks/Python.framework/Versions/3.10/lib/python3.10/site-packages/sklearn/metrics/_regression.py:796: UndefinedMetricWarning: R^2 score is not well-defined with less than two samples.\n",
      "  warnings.warn(msg, UndefinedMetricWarning)\n",
      "/Library/Frameworks/Python.framework/Versions/3.10/lib/python3.10/site-packages/sklearn/metrics/_regression.py:796: UndefinedMetricWarning: R^2 score is not well-defined with less than two samples.\n",
      "  warnings.warn(msg, UndefinedMetricWarning)\n",
      "/Library/Frameworks/Python.framework/Versions/3.10/lib/python3.10/site-packages/sklearn/metrics/_regression.py:796: UndefinedMetricWarning: R^2 score is not well-defined with less than two samples.\n",
      "  warnings.warn(msg, UndefinedMetricWarning)\n",
      "/Library/Frameworks/Python.framework/Versions/3.10/lib/python3.10/site-packages/sklearn/metrics/_regression.py:796: UndefinedMetricWarning: R^2 score is not well-defined with less than two samples.\n",
      "  warnings.warn(msg, UndefinedMetricWarning)\n",
      "/Library/Frameworks/Python.framework/Versions/3.10/lib/python3.10/site-packages/sklearn/metrics/_regression.py:796: UndefinedMetricWarning: R^2 score is not well-defined with less than two samples.\n",
      "  warnings.warn(msg, UndefinedMetricWarning)\n",
      "/Library/Frameworks/Python.framework/Versions/3.10/lib/python3.10/site-packages/sklearn/model_selection/_search.py:969: UserWarning: One or more of the test scores are non-finite: [nan nan nan nan nan nan nan nan nan nan nan nan nan nan nan nan nan nan\n",
      " nan nan nan nan nan nan nan]\n",
      "  warnings.warn(\n"
     ]
    },
    {
     "data": {
      "text/plain": [
       "GridSearchCV(estimator=SVR(),\n",
       "             param_grid={'C': [0.1, 1, 10, 100, 1000],\n",
       "                         'gamma': [1, 0.1, 0.01, 0.001, 0.0001],\n",
       "                         'kernel': ['rbf']},\n",
       "             verbose=3)"
      ]
     },
     "execution_count": 18,
     "metadata": {},
     "output_type": "execute_result"
    }
   ],
   "source": [
    "from sklearn.svm import SVR \n",
    "from sklearn.model_selection import GridSearchCV \n",
    "\n",
    "svr = SVR() \n",
    "\n",
    "\n",
    "param_grid = {'C': [0.1, 1, 10, 100, 1000],  \n",
    "              'gamma': [1, 0.1, 0.01, 0.001, 0.0001], \n",
    "              'kernel': ['rbf']}   \n",
    "\n",
    "grid = GridSearchCV(SVR(), param_grid, refit=True, verbose=3)    \n",
    "grid.fit(X_train, y_train)"
   ]
  },
  {
   "cell_type": "code",
   "execution_count": 19,
   "metadata": {},
   "outputs": [],
   "source": [
    "svr = SVR(C=10, gamma=0.01, kernel='rbf') \n",
    "svr.fit(X_train, y_train) \n",
    "svr_pred = svr.predict(X_test) "
   ]
  },
  {
   "cell_type": "code",
   "execution_count": 20,
   "metadata": {},
   "outputs": [],
   "source": [
    "import joblib  \n",
    "\n",
    "joblib.dump(ri, 'model.pkl') \n",
    "\n",
    "ridge_from_joblib = model = joblib.load(\"model.pkl\")"
   ]
  },
  {
   "cell_type": "code",
   "execution_count": null,
   "metadata": {},
   "outputs": [],
   "source": []
  },
  {
   "cell_type": "code",
   "execution_count": null,
   "metadata": {},
   "outputs": [],
   "source": []
  },
  {
   "cell_type": "code",
   "execution_count": null,
   "metadata": {},
   "outputs": [],
   "source": []
  },
  {
   "cell_type": "code",
   "execution_count": null,
   "metadata": {},
   "outputs": [],
   "source": []
  },
  {
   "cell_type": "code",
   "execution_count": null,
   "metadata": {},
   "outputs": [],
   "source": []
  },
  {
   "cell_type": "code",
   "execution_count": null,
   "metadata": {},
   "outputs": [],
   "source": []
  },
  {
   "cell_type": "code",
   "execution_count": null,
   "metadata": {},
   "outputs": [],
   "source": []
  }
 ],
 "metadata": {
  "kernelspec": {
   "display_name": "Python 3",
   "language": "python",
   "name": "python3"
  },
  "language_info": {
   "codemirror_mode": {
    "name": "ipython",
    "version": 3
   },
   "file_extension": ".py",
   "mimetype": "text/x-python",
   "name": "python",
   "nbconvert_exporter": "python",
   "pygments_lexer": "ipython3",
   "version": "3.10.2"
  }
 },
 "nbformat": 4,
 "nbformat_minor": 4
}
